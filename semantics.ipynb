{
 "cells": [
  {
   "cell_type": "code",
   "execution_count": 1,
   "metadata": {},
   "outputs": [],
   "source": [
    "import csv\n",
    "import numpy as np\n",
    "import pandas as pd\n",
    "from dfs_semantics import MeaningSpace, Semantics\n",
    "import dfs_semantics as dfs"
   ]
  },
  {
   "cell_type": "code",
   "execution_count": 2,
   "metadata": {},
   "outputs": [],
   "source": [
    "p = ['happy(john)', 'walks(john)', 'happy(mary)', 'walks(mary)']"
   ]
  },
  {
   "cell_type": "code",
   "execution_count": 30,
   "metadata": {},
   "outputs": [
    {
     "name": "stdout",
     "output_type": "stream",
     "text": [
      "{'happy(john)', 'happy(mary)', 'walks(john)', 'walks(mary)'}\n",
      "[[0 0 0 0]\n",
      " [0 0 0 1]\n",
      " [0 0 1 0]\n",
      " [0 0 1 1]\n",
      " [0 1 0 0]\n",
      " [0 1 0 1]\n",
      " [0 1 1 0]\n",
      " [0 1 1 1]\n",
      " [1 0 0 0]\n",
      " [1 0 0 1]\n",
      " [1 0 1 0]\n",
      " [1 0 1 1]\n",
      " [1 1 0 0]\n",
      " [1 1 0 1]\n",
      " [1 1 1 0]\n",
      " [1 1 1 1]]\n"
     ]
    }
   ],
   "source": [
    "s = Semantics(propositions=p)\n",
    "print(s.space)\n",
    "print(s.space.matrix)"
   ]
  },
  {
   "cell_type": "code",
   "execution_count": 31,
   "metadata": {},
   "outputs": [
    {
     "data": {
      "text/plain": [
       "array([[0, 0, 0, 0, 1, 1, 1, 1, 0, 0, 0, 0, 1, 1, 1, 1]])"
      ]
     },
     "execution_count": 31,
     "metadata": {},
     "output_type": "execute_result"
    }
   ],
   "source": [
    "john = s.getWordSemantics('john')\n",
    "mary = s.getWordSemantics('mary')\n",
    "walks = s.getWordSemantics('walks')\n",
    "s.setMerge(walks, john).T"
   ]
  },
  {
   "cell_type": "code",
   "execution_count": 42,
   "metadata": {},
   "outputs": [
    {
     "name": "stdout",
     "output_type": "stream",
     "text": [
      "{'walks(john)'}\n",
      "{'walks(mary)'}\n",
      "[[0 0 0 0 1 1 1 1 0 0 0 0 1 1 1 1]]\n",
      "[[0 1 0 1 0 1 0 1 0 1 0 1 0 1 0 1]]\n"
     ]
    }
   ],
   "source": [
    "y = s.setMerge(john, walks)\n",
    "s.space.printSet(dfs.matrix_to_set(y))\n",
    "x =s.setMerge(mary, walks)\n",
    "s.space.printSet(dfs.matrix_to_set(x))\n",
    "print(y.T)\n",
    "print(x.T)"
   ]
  },
  {
   "cell_type": "code",
   "execution_count": 40,
   "metadata": {},
   "outputs": [
    {
     "data": {
      "text/plain": [
       "array([[0, 0, 0, 0, 0, 1, 0, 1, 0, 0, 0, 0, 0, 1, 0, 1]])"
      ]
     },
     "execution_count": 40,
     "metadata": {},
     "output_type": "execute_result"
    }
   ],
   "source": [
    "#walks(john) & walks(mary) (make this code better)\n",
    "walks_johnandmary = dfs.vector_and(y, x).astype(int)\n",
    "walks_johnandmary.T"
   ]
  },
  {
   "cell_type": "code",
   "execution_count": 34,
   "metadata": {},
   "outputs": [
    {
     "data": {
      "text/plain": [
       "array([[0, 0, 0, 0, 0, 1, 0, 1, 0, 0, 0, 0, 0, 1, 0, 1]])"
      ]
     },
     "execution_count": 34,
     "metadata": {},
     "output_type": "execute_result"
    }
   ],
   "source": [
    "dfs.vector_and(s.setMerge(walks, john), s.setMerge(walks, mary)).astype(int).T"
   ]
  },
  {
   "cell_type": "code",
   "execution_count": null,
   "metadata": {},
   "outputs": [],
   "source": []
  },
  {
   "cell_type": "code",
   "execution_count": null,
   "metadata": {},
   "outputs": [],
   "source": []
  },
  {
   "cell_type": "code",
   "execution_count": null,
   "metadata": {},
   "outputs": [],
   "source": []
  },
  {
   "cell_type": "code",
   "execution_count": null,
   "metadata": {},
   "outputs": [],
   "source": []
  },
  {
   "cell_type": "code",
   "execution_count": 28,
   "metadata": {},
   "outputs": [
    {
     "data": {
      "text/plain": [
       "array([[0, 0, 0],\n",
       "       [0, 0, 0],\n",
       "       [0, 0, 0],\n",
       "       [0, 0, 0],\n",
       "       [0, 0, 0],\n",
       "       [0, 0, 1],\n",
       "       [1, 0, 0],\n",
       "       [1, 0, 1],\n",
       "       [0, 0, 0],\n",
       "       [0, 1, 0],\n",
       "       [0, 0, 0],\n",
       "       [0, 1, 0],\n",
       "       [0, 0, 0],\n",
       "       [0, 1, 1],\n",
       "       [1, 0, 0],\n",
       "       [1, 1, 1]])"
      ]
     },
     "execution_count": 28,
     "metadata": {},
     "output_type": "execute_result"
    }
   ],
   "source": [
    "# walks(john&mary)\n",
    "john_and_mary = s.setAnd(mary, john).astype(int)\n",
    "merged = s.setMerge(walks, john_and_mary)\n",
    "merged"
   ]
  },
  {
   "cell_type": "code",
   "execution_count": 27,
   "metadata": {},
   "outputs": [
    {
     "name": "stdout",
     "output_type": "stream",
     "text": [
      "True\n"
     ]
    }
   ],
   "source": [
    "assert (merged[:, 1] == walks_johnandmary).all()\n",
    "print(True)"
   ]
  },
  {
   "cell_type": "code",
   "execution_count": 29,
   "metadata": {},
   "outputs": [
    {
     "data": {
      "text/plain": [
       "array([[0, 0, 0, 0],\n",
       "       [0, 0, 0, 0],\n",
       "       [0, 0, 0, 0],\n",
       "       [0, 0, 0, 0],\n",
       "       [0, 0, 0, 0],\n",
       "       [0, 0, 0, 1],\n",
       "       [0, 1, 0, 0],\n",
       "       [0, 1, 0, 1],\n",
       "       [0, 0, 0, 0],\n",
       "       [0, 0, 1, 0],\n",
       "       [1, 0, 0, 0],\n",
       "       [1, 0, 1, 0],\n",
       "       [0, 0, 0, 0],\n",
       "       [0, 0, 1, 1],\n",
       "       [1, 1, 0, 0],\n",
       "       [1, 1, 1, 1]])"
      ]
     },
     "execution_count": 29,
     "metadata": {},
     "output_type": "execute_result"
    }
   ],
   "source": [
    "john_and_mary"
   ]
  },
  {
   "cell_type": "code",
   "execution_count": 10,
   "metadata": {},
   "outputs": [
    {
     "ename": "AttributeError",
     "evalue": "module 'dfs_semantics' has no attribute 'matrix_imp'",
     "output_type": "error",
     "traceback": [
      "\u001b[0;31m---------------------------------------------------------------------------\u001b[0m",
      "\u001b[0;31mAttributeError\u001b[0m                            Traceback (most recent call last)",
      "\u001b[0;32m<ipython-input-10-22877a8e3ce0>\u001b[0m in \u001b[0;36m<module>\u001b[0;34m\u001b[0m\n\u001b[1;32m      1\u001b[0m \u001b[0ma\u001b[0m \u001b[0;34m=\u001b[0m \u001b[0mnp\u001b[0m\u001b[0;34m.\u001b[0m\u001b[0marray\u001b[0m\u001b[0;34m(\u001b[0m\u001b[0;34m[\u001b[0m\u001b[0;34m[\u001b[0m\u001b[0;36m1\u001b[0m\u001b[0;34m,\u001b[0m\u001b[0;36m0\u001b[0m\u001b[0;34m,\u001b[0m\u001b[0;36m0\u001b[0m\u001b[0;34m]\u001b[0m\u001b[0;34m,\u001b[0m \u001b[0;34m[\u001b[0m\u001b[0;36m1\u001b[0m\u001b[0;34m,\u001b[0m\u001b[0;36m0\u001b[0m\u001b[0;34m,\u001b[0m\u001b[0;36m1\u001b[0m\u001b[0;34m]\u001b[0m\u001b[0;34m]\u001b[0m\u001b[0;34m)\u001b[0m\u001b[0;34m\u001b[0m\u001b[0;34m\u001b[0m\u001b[0m\n\u001b[1;32m      2\u001b[0m \u001b[0mb\u001b[0m \u001b[0;34m=\u001b[0m \u001b[0mnp\u001b[0m\u001b[0;34m.\u001b[0m\u001b[0marray\u001b[0m\u001b[0;34m(\u001b[0m\u001b[0;34m[\u001b[0m\u001b[0;34m[\u001b[0m\u001b[0;36m1\u001b[0m\u001b[0;34m,\u001b[0m\u001b[0;36m1\u001b[0m\u001b[0;34m,\u001b[0m\u001b[0;36m0\u001b[0m\u001b[0;34m]\u001b[0m\u001b[0;34m,\u001b[0m \u001b[0;34m[\u001b[0m\u001b[0;36m1\u001b[0m\u001b[0;34m,\u001b[0m\u001b[0;36m1\u001b[0m\u001b[0;34m,\u001b[0m\u001b[0;36m0\u001b[0m\u001b[0;34m]\u001b[0m\u001b[0;34m]\u001b[0m\u001b[0;34m)\u001b[0m\u001b[0;34m\u001b[0m\u001b[0;34m\u001b[0m\u001b[0m\n\u001b[0;32m----> 3\u001b[0;31m \u001b[0mc\u001b[0m \u001b[0;34m=\u001b[0m \u001b[0mdfs_semantics\u001b[0m\u001b[0;34m.\u001b[0m\u001b[0mmatrix_imp\u001b[0m\u001b[0;34m(\u001b[0m\u001b[0ma\u001b[0m\u001b[0;34m,\u001b[0m \u001b[0mb\u001b[0m\u001b[0;34m)\u001b[0m\u001b[0;34m\u001b[0m\u001b[0;34m\u001b[0m\u001b[0m\n\u001b[0m\u001b[1;32m      4\u001b[0m \u001b[0mc\u001b[0m\u001b[0;34m\u001b[0m\u001b[0;34m\u001b[0m\u001b[0m\n",
      "\u001b[0;31mAttributeError\u001b[0m: module 'dfs_semantics' has no attribute 'matrix_imp'"
     ]
    }
   ],
   "source": [
    "a = np.array([[1,0,0], [1,0,1]])\n",
    "b = np.array([[1,1,0], [1,1,0]])\n",
    "c = dfs_semantics.matrix_imp(a, b)\n",
    "c"
   ]
  },
  {
   "cell_type": "code",
   "execution_count": 6,
   "metadata": {},
   "outputs": [
    {
     "data": {
      "text/plain": [
       "array([[[ True,  True,  True]],\n",
       "\n",
       "       [[ True,  True, False]]])"
      ]
     },
     "execution_count": 6,
     "metadata": {},
     "output_type": "execute_result"
    }
   ],
   "source": [
    "c[:, np.all(True)]"
   ]
  },
  {
   "cell_type": "code",
   "execution_count": 12,
   "metadata": {},
   "outputs": [
    {
     "data": {
      "text/plain": [
       "array([[1, 0],\n",
       "       [1, 0]])"
      ]
     },
     "execution_count": 12,
     "metadata": {},
     "output_type": "execute_result"
    }
   ],
   "source": [
    "s.merge(a, b)"
   ]
  },
  {
   "cell_type": "code",
   "execution_count": 8,
   "metadata": {},
   "outputs": [],
   "source": [
    "file = 'model.observations'\n",
    "# niet geheel triviaal hoe deze datastructuren zouden moeten werken, dus ik probeer gewoon wat...\n",
    "model_df = pd.read_csv(file, sep=' ', header=0)\n",
    "model_matrix = np.array(model_df)\n",
    "propositions = list(model_df.columns)\n",
    "prop_dict = {tuple(np.array(model_df.iloc[:, index])) : prop for index, prop in enumerate(propositions)}"
   ]
  },
  {
   "cell_type": "code",
   "execution_count": 9,
   "metadata": {},
   "outputs": [],
   "source": [
    "def matrix_to_set(Matrix):\n",
    "    return set(map(tuple, Matrix))"
   ]
  },
  {
   "cell_type": "code",
   "execution_count": 16,
   "metadata": {},
   "outputs": [
    {
     "name": "stdout",
     "output_type": "stream",
     "text": [
      "[(0, 0, 0, 0), (0, 0, 0, 1), (0, 0, 1, 0), (0, 0, 1, 1), (0, 1, 0, 0), (0, 1, 0, 1), (0, 1, 1, 0), (0, 1, 1, 1), (1, 0, 0, 0), (1, 0, 0, 1), (1, 0, 1, 0), (1, 0, 1, 1), (1, 1, 0, 0), (1, 1, 0, 1), (1, 1, 1, 0), (1, 1, 1, 1)]\n",
      "16\n"
     ]
    }
   ],
   "source": [
    "from itertools import product\n",
    "print(list(product([0,1], repeat=4)))\n",
    "print(len(list(product([0,1], repeat=4))))"
   ]
  },
  {
   "cell_type": "code",
   "execution_count": 4,
   "metadata": {},
   "outputs": [],
   "source": [
    "def set_to_matrix(Set):\n",
    "    array = np.array([elem for elem in Set])\n",
    "    return array"
   ]
  },
  {
   "cell_type": "code",
   "execution_count": 5,
   "metadata": {},
   "outputs": [],
   "source": [
    "def print_set(Set, prop_dict, raw=False):\n",
    "    if not raw:\n",
    "        try:\n",
    "            print(set([prop_dict[elem] for elem in Set]))\n",
    "        except KeyError:\n",
    "            print(set([f'v_{i}' for i, elem in enumerate(Set)]))\n",
    "    else:\n",
    "        print(set([elem for elem in Set]))"
   ]
  },
  {
   "cell_type": "code",
   "execution_count": 6,
   "metadata": {},
   "outputs": [],
   "source": [
    "def interpretation(semantics_rep):\n",
    "    return np.mean(set_to_matrix(semantics_rep), axis=0)"
   ]
  },
  {
   "cell_type": "markdown",
   "metadata": {},
   "source": [
    "$[[w]]^M = \\{V_n(p)\\ | w \\in p\\}$ for all $p \\in \\mathcal{P}$"
   ]
  },
  {
   "cell_type": "markdown",
   "metadata": {},
   "source": [
    "## Negatie ##\n",
    "\n",
    "$[[\\neg w]]^M = \\{\\neg V_n(p)\\ | w \\in p\\}$ for all $p \\in \\mathcal{P}$ \n",
    "\n",
    "OF \n",
    "\n",
    "$[[\\neg w]]^M  = \\{\\mathcal{P} \\setminus [[w]]^M\\}$"
   ]
  },
  {
   "cell_type": "markdown",
   "metadata": {},
   "source": [
    "## Conjunctie ##\n",
    "\n",
    "$[[w_1 \\land w_2]]^M = \\{[[w_1]]^M \\cap [[w_2]]^M\\}$\n",
    "\n",
    "OF\n",
    "\n",
    "$[[w_1 \\land w_2]]^M = v_1(w_1) \\wedge \\cdots \\wedge v_n(w_1) \\land v_1(w_2) \\wedge \\cdots \\wedge v_n(w_2)$\n",
    "\n",
    "OF ?\n",
    "\n",
    "$[[w_1 \\land w_2]]^M = \\{M_i | (w_1, w_2) \\in \\mathcal{M} \\} $"
   ]
  },
  {
   "cell_type": "markdown",
   "metadata": {},
   "source": [
    "## Disjunctie\n",
    "\n",
    "$[[w_1 \\lor w_2]]^M = \\{[[w_1]]^M \\cup [[w_2]]^M\\}$"
   ]
  },
  {
   "cell_type": "code",
   "execution_count": 100,
   "metadata": {},
   "outputs": [],
   "source": [
    "def getSemantics(word, matrix, propositons, output='set'):\n",
    "    relevantProps = [index for index, prop in enumerate(propositions) if word in prop]\n",
    "    vectors = matrix[:, relevantProps]\n",
    "    return matrix_to_set(vectors.T) if output == 'set' else vectors"
   ]
  },
  {
   "cell_type": "code",
   "execution_count": 122,
   "metadata": {},
   "outputs": [],
   "source": [
    "def negate_elem(semantics_rep): #works only on matrices\n",
    "    if not isinstance(semantics_rep, np.ndarray):\n",
    "        semantics_rep = set_to_matrix(semantics_rep)\n",
    "    #coole truc: gebruik bitwise XOR operator  (^) met 1 0^1 = 1, 1^1 = 1\n",
    "    #geen gezeik met converteren naar truth values\n",
    "    return matrix_to_set(semantics_rep^1)\n",
    "\n",
    "def negate(semantics_rep):\n",
    "    if not isinstance(semantics_rep, set):\n",
    "        semantics_rep = matrix_to_set(semantics_rep)\n",
    "    world = matrix_to_set(model_matrix.T)\n",
    "    print_set(world, prop_dict)\n",
    "    return world.difference(semantics_rep)"
   ]
  },
  {
   "cell_type": "code",
   "execution_count": 127,
   "metadata": {},
   "outputs": [],
   "source": [
    "def AND(p1, p2): #works only on sets\n",
    "    return p1.intersection(p2)\n",
    "\n",
    "def AND_elem(p1, p2): #works only on matrices\n",
    "    if not isinstance(p1, np.ndarray) or not isinstance(p2, np.ndarray):\n",
    "        p1 = set_to_matrix(p1)\n",
    "        p2 = set_to_matrix(p2)\n",
    "    return matrix_to_set(p1*p2)"
   ]
  },
  {
   "cell_type": "code",
   "execution_count": 107,
   "metadata": {},
   "outputs": [],
   "source": [
    "def OR(p1, p2): #works only on sets\n",
    "    return p1.union(p2)"
   ]
  },
  {
   "cell_type": "markdown",
   "metadata": {},
   "source": [
    "### Demo tot nu toe ###\n",
    "Let op dat de negatie zoals geimplementeerd als enige operatie (tot nu toe) niet-atomische propositierepresentaties oplevert. Dat betekent dat elke semantiek van arbitraire complexiteit niet-atomische representaties op levert als er ook maar 1 negatie ergens zit. Hierdoor werken de definites van AND en OR niet meer: AND(p1, negate_flip(p2)) is altijd de empty set! Daarom heb ik een tweede negatie operatie gedefinieerd."
   ]
  },
  {
   "cell_type": "code",
   "execution_count": 118,
   "metadata": {},
   "outputs": [
    {
     "name": "stdout",
     "output_type": "stream",
     "text": [
      "[[sleep]] :\n",
      "{'sleep(zelda)', 'sleep(nick)', 'sleep(jess)', 'sleep(winston)'}\n",
      "\n",
      "\n",
      "[[nick]] :\n",
      "{'tease(nick,winston)', 'tease(nick,zelda)', 'tease(jess,nick)', 'tease(nick,nick)', 'sleep(nick)', 'read(nick)', 'tease(zelda,nick)', 'tease(winston,nick)', 'tease(nick,jess)'}\n",
      "\n",
      "\n",
      "[[not nick]] :\n",
      "{'tease(zelda,zelda)', 'tease(zelda,nick)', 'read(winston)', 'tease(winston,winston)', 'tease(jess,zelda)', 'tease(winston,jess)', 'read(zelda)', 'sleep(zelda)', 'tease(nick,zelda)', 'tease(nick,jess)', 'tease(nick,winston)', 'tease(zelda,jess)', 'tease(jess,nick)', 'tease(winston,zelda)', 'read(nick)', 'sleep(winston)', 'read(jess)', 'tease(jess,winston)', 'sleep(jess)', 'tease(zelda,winston)', 'tease(nick,nick)', 'sleep(nick)', 'tease(winston,nick)', 'tease(jess,jess)'}\n",
      "{'tease(zelda,winston)', 'tease(zelda,jess)', 'tease(winston,jess)', 'tease(winston,zelda)', 'tease(jess,winston)', 'tease(zelda,zelda)', 'read(zelda)', 'tease(jess,jess)', 'sleep(winston)', 'sleep(zelda)', 'read(jess)', 'read(winston)', 'tease(winston,winston)', 'sleep(jess)', 'tease(jess,zelda)'}\n",
      "\n",
      "\n",
      "[[zelda]] :\n",
      "{'tease(zelda,winston)', 'tease(zelda,jess)', 'tease(winston,zelda)', 'tease(zelda,zelda)', 'tease(zelda,nick)', 'read(zelda)', 'sleep(zelda)', 'tease(nick,zelda)', 'tease(jess,zelda)'}\n",
      "\n",
      "\n",
      "[[tease]] :\n",
      "{'tease(nick,winston)', 'tease(zelda,winston)', 'tease(nick,zelda)', 'tease(jess,nick)', 'tease(winston,jess)', 'tease(zelda,jess)', 'tease(winston,zelda)', 'tease(nick,nick)', 'tease(jess,winston)', 'tease(zelda,zelda)', 'tease(zelda,nick)', 'tease(jess,jess)', 'tease(winston,nick)', 'tease(nick,jess)', 'tease(winston,winston)', 'tease(jess,zelda)'}\n",
      "\n",
      "\n",
      "[[sleep ^ nick]] :\n",
      "{'sleep(nick)'}\n",
      "\n",
      "\n",
      "[[tease ^ nick]] :\n",
      "{'tease(nick,winston)', 'tease(nick,zelda)', 'tease(jess,nick)', 'tease(nick,nick)', 'tease(zelda,nick)', 'tease(winston,nick)', 'tease(nick,jess)'}\n",
      "\n",
      "\n",
      "[[nick V zelda]] :\n",
      "{'tease(nick,winston)', 'tease(nick,zelda)', 'tease(jess,nick)', 'tease(nick,nick)', 'sleep(nick)', 'read(nick)', 'tease(zelda,nick)', 'tease(winston,nick)', 'tease(nick,jess)'}\n"
     ]
    }
   ],
   "source": [
    "sleep = getSemantics('sleep', model_matrix, propositions)\n",
    "nick = getSemantics('nick', model_matrix, propositions)\n",
    "zelda = getSemantics('zelda', model_matrix, propositions)\n",
    "tease = getSemantics('tease', model_matrix, propositions)\n",
    "\n",
    "\n",
    "print('[[sleep]]', ':')\n",
    "print_set(sleep, prop_dict)\n",
    "print('\\n')\n",
    "print('[[nick]]', ':')\n",
    "print_set(nick, prop_dict)\n",
    "print('\\n')\n",
    "print('[[not nick]]', ':')\n",
    "print_set(negate(nick), prop_dict)\n",
    "print('\\n')\n",
    "print('[[zelda]]', ':')\n",
    "print_set(zelda, prop_dict)\n",
    "print('\\n')\n",
    "print('[[tease]]', ':')\n",
    "print_set(tease, prop_dict)\n",
    "print('\\n')\n",
    "print('[[sleep ^ nick]]', ':')\n",
    "print_set(AND(sleep,nick), prop_dict)\n",
    "print('\\n')\n",
    "print('[[tease ^ nick]]', ':')\n",
    "print_set(AND(tease,nick), prop_dict)\n",
    "print('\\n')\n",
    "print('[[nick V zelda]]', ':')\n",
    "print_set(OR(nick, nick), prop_dict)"
   ]
  },
  {
   "cell_type": "markdown",
   "metadata": {},
   "source": [
    "### Implicatie ###\n",
    "\n",
    "Eerste idee: Gebruik $A \\rightarrow B = \\neg(A \\land \\neg B)$"
   ]
  },
  {
   "cell_type": "code",
   "execution_count": 115,
   "metadata": {},
   "outputs": [],
   "source": [
    "def imply(p1, p2):\n",
    "    return negate(AND(p1, negate(p2)))"
   ]
  },
  {
   "cell_type": "code",
   "execution_count": 119,
   "metadata": {},
   "outputs": [
    {
     "name": "stdout",
     "output_type": "stream",
     "text": [
      "[[nick imply zelda]] :\n",
      "{'tease(zelda,zelda)', 'tease(zelda,nick)', 'read(winston)', 'tease(winston,winston)', 'tease(jess,zelda)', 'tease(winston,jess)', 'read(zelda)', 'sleep(zelda)', 'tease(nick,zelda)', 'tease(nick,jess)', 'tease(nick,winston)', 'tease(zelda,jess)', 'tease(jess,nick)', 'tease(winston,zelda)', 'read(nick)', 'sleep(winston)', 'read(jess)', 'tease(jess,winston)', 'sleep(jess)', 'tease(zelda,winston)', 'tease(nick,nick)', 'sleep(nick)', 'tease(winston,nick)', 'tease(jess,jess)'}\n",
      "{'tease(zelda,zelda)', 'tease(zelda,nick)', 'read(winston)', 'tease(winston,winston)', 'tease(jess,zelda)', 'tease(winston,jess)', 'read(zelda)', 'sleep(zelda)', 'tease(nick,zelda)', 'tease(nick,jess)', 'tease(nick,winston)', 'tease(zelda,jess)', 'tease(jess,nick)', 'tease(winston,zelda)', 'read(nick)', 'sleep(winston)', 'read(jess)', 'tease(jess,winston)', 'sleep(jess)', 'tease(zelda,winston)', 'tease(nick,nick)', 'sleep(nick)', 'tease(winston,nick)', 'tease(jess,jess)'}\n",
      "{'tease(zelda,winston)', 'tease(nick,zelda)', 'tease(zelda,jess)', 'tease(winston,jess)', 'tease(winston,zelda)', 'tease(jess,winston)', 'tease(zelda,zelda)', 'tease(zelda,nick)', 'read(zelda)', 'tease(jess,jess)', 'sleep(winston)', 'sleep(zelda)', 'read(jess)', 'read(winston)', 'tease(winston,winston)', 'sleep(jess)', 'tease(jess,zelda)'}\n"
     ]
    }
   ],
   "source": [
    "print('[[nick imply zelda]]', ':')\n",
    "print_set(imply(nick, zelda), prop_dict)"
   ]
  },
  {
   "cell_type": "code",
   "execution_count": 135,
   "metadata": {},
   "outputs": [
    {
     "name": "stdout",
     "output_type": "stream",
     "text": [
      "{'v_3', 'v_7', 'v_1', 'v_5', 'v_8', 'v_2', 'v_0', 'v_6', 'v_4'}\n"
     ]
    }
   ],
   "source": [
    "print_set(AND_elem(nick, zelda), prop_dict)"
   ]
  },
  {
   "cell_type": "code",
   "execution_count": 137,
   "metadata": {},
   "outputs": [
    {
     "data": {
      "text/plain": [
       "array([0, 0, 1])"
      ]
     },
     "execution_count": 137,
     "metadata": {},
     "output_type": "execute_result"
    }
   ],
   "source": [
    "np.array([1, 0, 1]) * np.array([0, 1, 1]) * np.array([1, 1, 1])"
   ]
  }
 ],
 "metadata": {
  "kernelspec": {
   "display_name": "Python 3",
   "language": "python",
   "name": "python3"
  },
  "language_info": {
   "codemirror_mode": {
    "name": "ipython",
    "version": 3
   },
   "file_extension": ".py",
   "mimetype": "text/x-python",
   "name": "python",
   "nbconvert_exporter": "python",
   "pygments_lexer": "ipython3",
   "version": "3.7.9"
  }
 },
 "nbformat": 4,
 "nbformat_minor": 4
}
